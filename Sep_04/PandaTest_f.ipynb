{
 "cells": [
  {
   "cell_type": "code",
   "execution_count": 1,
   "metadata": {},
   "outputs": [
    {
     "name": "stdout",
     "output_type": "stream",
     "text": [
      "Once deleted, variables cannot be recovered. Proceed (y/[n])? y\n"
     ]
    }
   ],
   "source": [
    "%reset"
   ]
  },
  {
   "cell_type": "code",
   "execution_count": 2,
   "metadata": {},
   "outputs": [],
   "source": [
    "import os\n",
    "import requests\n",
    "import pandas as pd\n",
    "import matplotlib.pyplot as plt\n",
    "from bokeh.models import HoverTool, ColumnDataSource, NumeralTickFormatter\n",
    "from bokeh.plotting import figure, show\n",
    "from bokeh.io import output_file"
   ]
  },
  {
   "cell_type": "code",
   "execution_count": 3,
   "metadata": {},
   "outputs": [],
   "source": [
    "#la funcion dow, descarga todos los archivos contenidos en los links de la variable url\n",
    "\n",
    "def dow(url,cat):\n",
    "    \n",
    "    for i in range(len(url)):\n",
    "        html = requests.get(url[i]).content\n",
    "        x_list = pd.read_html(html,header=0)\n",
    "        x = x_list[1]\n",
    "        cat.append(x.columns[1])\n",
    "        globals()[cat[i]] = x\n",
    "        globals()[cat[i]] = pd.Series(globals()[x.columns[1]][x.columns[1]].values,\n",
    "                                     index=globals()[x.columns[1]]['Country'])"
   ]
  },
  {
   "cell_type": "code",
   "execution_count": 4,
   "metadata": {},
   "outputs": [],
   "source": [
    "url = ['https://www.indexmundi.com/map/?t=0&v=2226&r=xx&l=en',\n",
    "       'https://www.indexmundi.com/map/?t=0&v=26&r=xx&l=en',\n",
    "       'https://www.indexmundi.com/map/?t=0&v=25&r=xx&l=en']\n",
    "cat = []\n",
    "t=[]\n",
    "file='BvD.csv'"
   ]
  },
  {
   "cell_type": "code",
   "execution_count": 5,
   "metadata": {},
   "outputs": [],
   "source": [
    "dow(url,cat)"
   ]
  },
  {
   "cell_type": "code",
   "execution_count": 6,
   "metadata": {},
   "outputs": [],
   "source": [
    "#Este ciclo crea una variable que contiene los comandos para llamar a cada columna de datos\n",
    "#obtenidos con dow\n",
    "\n",
    "l = list(range(len(url)))\n",
    "l = [str(c) for c in l]\n",
    "for i in range(len(url)):\n",
    "    j=str(i)\n",
    "    l[i]='cat['+j+']:globals()[cat['+j+']]'\n",
    "\n",
    "#Este ciclo crea una linea de codigo para unir todas las tablas en una sola\n",
    "#organizada por pais\n",
    "k='t = pd.DataFrame({'\n",
    "for i in range(len(url)):\n",
    "    k=k+ l[i] +', '\n",
    "    \n",
    "k=k+'})'\n",
    "\n",
    "#exec ejecuta la linea de codigo generada en el ciclo anterior    \n",
    "exec(k)"
   ]
  },
  {
   "cell_type": "code",
   "execution_count": 7,
   "metadata": {},
   "outputs": [],
   "source": [
    "#Guarda los datos en un archivo\n",
    "t.to_csv(file)"
   ]
  },
  {
   "cell_type": "markdown",
   "metadata": {},
   "source": [
    "# Plot"
   ]
  },
  {
   "cell_type": "code",
   "execution_count": 8,
   "metadata": {},
   "outputs": [],
   "source": [
    "\n",
    "fig = figure(plot_height=400,\n",
    "             plot_width=600,\n",
    "             x_axis_label=t.columns[1],\n",
    "             y_axis_label=t.columns[2],\n",
    "             title='Deaths vs Births',\n",
    "             toolbar_location='below',\n",
    "\n",
    "            )\n",
    "\n",
    "tooltips = [\n",
    "            ('Country', '@index'),\n",
    "#            ('Deaths', '@'+t.columns[0]),\n",
    "#            ('Births', '@'+t.columns[1]),\n",
    "#            ('Physicians', '@'+t.columns[2]),\n",
    "           ]\n",
    "\n",
    "fig.add_tools(HoverTool(tooltips=tooltips))\n",
    "\n",
    "fig.square(x=t.columns[1], y=t.columns[2], \n",
    "           source=t, color='royalblue', \n",
    "           selection_color='deepskyblue', nonselection_color='lightgray', nonselection_alpha=0.3)\n",
    "\n",
    "\n",
    "show(fig)"
   ]
  },
  {
   "cell_type": "code",
   "execution_count": null,
   "metadata": {},
   "outputs": [],
   "source": []
  },
  {
   "cell_type": "code",
   "execution_count": null,
   "metadata": {},
   "outputs": [],
   "source": []
  }
 ],
 "metadata": {
  "kernelspec": {
   "display_name": "Python 3",
   "language": "python",
   "name": "python3"
  },
  "language_info": {
   "codemirror_mode": {
    "name": "ipython",
    "version": 3
   },
   "file_extension": ".py",
   "mimetype": "text/x-python",
   "name": "python",
   "nbconvert_exporter": "python",
   "pygments_lexer": "ipython3",
   "version": "3.6.5"
  }
 },
 "nbformat": 4,
 "nbformat_minor": 2
}
