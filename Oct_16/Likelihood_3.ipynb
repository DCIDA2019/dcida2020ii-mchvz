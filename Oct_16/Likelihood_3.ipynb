{
 "cells": [
  {
   "cell_type": "code",
   "execution_count": 138,
   "metadata": {},
   "outputs": [
    {
     "name": "stdout",
     "output_type": "stream",
     "text": [
      "Once deleted, variables cannot be recovered. Proceed (y/[n])? y\n"
     ]
    }
   ],
   "source": [
    "%reset"
   ]
  },
  {
   "cell_type": "code",
   "execution_count": 139,
   "metadata": {},
   "outputs": [],
   "source": [
    "import pandas as pd\n",
    "import numpy as np\n",
    "import matplotlib.pyplot as plt\n",
    "import time\n",
    "from mpl_toolkits import mplot3d\n",
    "import math"
   ]
  },
  {
   "cell_type": "code",
   "execution_count": 268,
   "metadata": {},
   "outputs": [],
   "source": [
    "# p: parametros [m,b], x: datos\n",
    "# funcion lineal\n",
    "def f(p,x):\n",
    "    z=((x[1]-(p[0]*x[0]+p[1]))**2/2*x[2]**2)\n",
    "    return z\n",
    "\n",
    "def L(p,x):\n",
    "    L=0\n",
    "    for i in range(len(x)):\n",
    "        L=L-(2*np.pi*x[2,i]**2)+f(p,x)[i]\n",
    "        \n",
    "\n",
    "    \n",
    "    return L\n",
    "# ----------------------------------------------------------\n",
    "def prim(m):\n",
    "\n",
    "    if minm < m and maxm > m:\n",
    "        return Pm\n",
    "    else:\n",
    "        return 0\n",
    "\n",
    "\n",
    "def prib(b):\n",
    "\n",
    "    if minb < b and maxb > b:\n",
    "        return Pb\n",
    "    else:\n",
    "        return 0\n",
    "\n",
    "\n",
    "# ----------------------------------------------------------\n",
    "def pos(p,x):\n",
    "\n",
    "    z=(prib(p[1]))*np.exp(L(p,x))*(prim(p[0]))\n",
    "    \n",
    "    return z"
   ]
  },
  {
   "cell_type": "code",
   "execution_count": 141,
   "metadata": {},
   "outputs": [
    {
     "data": {
      "text/plain": [
       "[<matplotlib.lines.Line2D at 0x29626bcbeb8>]"
      ]
     },
     "execution_count": 141,
     "metadata": {},
     "output_type": "execute_result"
    },
    {
     "data": {
      "image/png": "[encoded data removed]",
      "text/plain": [
       "<Figure size 432x288 with 1 Axes>"
      ]
     },
     "metadata": {},
     "output_type": "display_data"
    }
   ],
   "source": [
    "db = np.load('fit_exercise.npy')\n",
    "plt.plot(db[0],db[1],'.')"
   ]
  },
  {
   "cell_type": "code",
   "execution_count": 264,
   "metadata": {},
   "outputs": [],
   "source": [
    "# punto de inicio, p=[m,b]\n",
    "O=[0,0]\n",
    "\n",
    "# número pasos\n",
    "s=10000\n",
    "\n",
    "# guardar los datos\n",
    "h=np.zeros([s+1,2])\n",
    "h[0]=O\n",
    "\n",
    "# ----------------------------------------------------\n",
    "minm=-2\n",
    "maxm=0\n",
    "Pm=1/(maxm-minm)\n",
    "\n",
    "minb=0\n",
    "maxb=10\n",
    "Pb=1/(maxb-minb)"
   ]
  },
  {
   "cell_type": "code",
   "execution_count": 265,
   "metadata": {},
   "outputs": [],
   "source": [
    "\n",
    "m0=h[0,0]\n",
    "b0=h[0,1]\n",
    "\n",
    "# sigma para los datos aleatorios\n",
    "sig = 1  #deberiasn ser diferentes sigmas para m y b pero en est caso tienen un rango similar\n",
    "\n",
    "posn_v=np.zeros(s+1)\n",
    "posv=pos(h[0],db)\n",
    "\n",
    "\n",
    "\n",
    "\n"
   ]
  },
  {
   "cell_type": "code",
   "execution_count": null,
   "metadata": {},
   "outputs": [],
   "source": [
    "a=[]\n",
    "b=[]\n",
    "count=0\n",
    "count1= 0\n",
    "for i in range(s):\n",
    "\n",
    "    m1= (np.random.normal(m0,sig,1))\n",
    "    b1= (np.random.normal(b0,sig,1))\n",
    "    \n",
    "    posn = pos([m1,b1],db)\n",
    "\n",
    "\n",
    "\n",
    "    h[i+1]=[m1,b1]\n",
    "    \n",
    "    posn_v [i]= posn/posv\n",
    "    \n",
    "    \n",
    "    if posn > posv*1:\n",
    "        \n",
    "        posv = np.copy(posn)\n",
    "        m0 = np.copy(m1)\n",
    "        b0 = np.copy(b1)\n",
    "        \n",
    "        count = count+1\n",
    "        a.append(m0)\n",
    "        b.append(b0)\n",
    "        \n",
    "        \n",
    "    elif posn_v[i] > np.random.rand():\n",
    "        posv = np.copy(posn)\n",
    "        m0 = np.copy(m1)\n",
    "        b0 = np.copy(b1)\n",
    "        \n",
    "        count1 = count1+1\n",
    "        a.append(m0)\n",
    "        b.append(b0)\n",
    "            \n",
    "            \n",
    "\n",
    "print(count)\n",
    "print(count1)\n",
    "plt.plot(h[:,0],h[:,1],'.')\n",
    "plt.plot(a,b,'r')\n",
    "plt.xlabel('m')\n",
    "plt.ylabel('b')\n",
    "\n"
   ]
  },
  {
   "cell_type": "code",
   "execution_count": 273,
   "metadata": {},
   "outputs": [
    {
     "data": {
      "text/plain": [
       "<matplotlib.legend.Legend at 0x2962daa5c18>"
      ]
     },
     "execution_count": 273,
     "metadata": {},
     "output_type": "execute_result"
    },
    {
     "data": {
      "image/png": "[encoded data removed]",
      "text/plain": [
       "<Figure size 432x288 with 1 Axes>"
      ]
     },
     "metadata": {},
     "output_type": "display_data"
    }
   ],
   "source": [
    "plt.hist(h[:,0],50, edgecolor='black', label='m');\n",
    "plt.hist(h[:,1],50, edgecolor='black',label='b');\n",
    "plt.legend()"
   ]
  },
  {
   "cell_type": "code",
   "execution_count": 274,
   "metadata": {
    "scrolled": true
   },
   "outputs": [
    {
     "data": {
      "text/plain": [
       "[<matplotlib.lines.Line2D at 0x2962db3df28>]"
      ]
     },
     "execution_count": 274,
     "metadata": {},
     "output_type": "execute_result"
    },
    {
     "data": {
      "image/png": "[encoded data removed]",
      "text/plain": [
       "<Figure size 432x288 with 1 Axes>"
      ]
     },
     "metadata": {},
     "output_type": "display_data"
    }
   ],
   "source": [
    "xmin=0\n",
    "xmax=10\n",
    "dt=(xmax-xmin)/len(h[:,0])\n",
    "\n",
    "t=np.arange(xmin,xmax,dt)\n",
    "y=m0*t+b0\n",
    "\n",
    "plt.plot(t,y,'r')\n",
    "plt.plot(db[0],db[1],'.')"
   ]
  },
  {
   "cell_type": "code",
   "execution_count": null,
   "metadata": {},
   "outputs": [],
   "source": []
  },
  {
   "cell_type": "code",
   "execution_count": null,
   "metadata": {},
   "outputs": [],
   "source": [
    "\n"
   ]
  }
 ],
 "metadata": {
  "kernelspec": {
   "display_name": "Python 3",
   "language": "python",
   "name": "python3"
  },
  "language_info": {
   "codemirror_mode": {
    "name": "ipython",
    "version": 3
   },
   "file_extension": ".py",
   "mimetype": "text/x-python",
   "name": "python",
   "nbconvert_exporter": "python",
   "pygments_lexer": "ipython3",
   "version": "3.6.5"
  }
 },
 "nbformat": 4,
 "nbformat_minor": 2
}
