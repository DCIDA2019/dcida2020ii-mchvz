{
 "cells": [
  {
   "cell_type": "code",
   "execution_count": 1,
   "metadata": {},
   "outputs": [],
   "source": [
    "import os\n",
    "import sys\n",
    "import numpy as np\n",
    "import matplotlib.pyplot as plt\n",
    "import urllib.request\n",
    "from astropy.io import fits as pyfits\n",
    "from astropy.table import Table"
   ]
  },
  {
   "cell_type": "code",
   "execution_count": 2,
   "metadata": {},
   "outputs": [],
   "source": [
    "#Define the URL for the data to download and the filename as well as the local directory where to be saved.  \n",
    "DATA_URL=\"https://data.sdss.org/sas/dr14/eboss/qso/DR14Q/\"\n",
    "file=\"DR14Q_v4_4.fits\"\n",
    "local_dir=\"./\"\n",
    "local_file = os.path.join(local_dir,file)"
   ]
  },
  {
   "cell_type": "code",
   "execution_count": 3,
   "metadata": {},
   "outputs": [
    {
     "name": "stdout",
     "output_type": "stream",
     "text": [
      "./DR14Q_v4_4.fits already exist\n"
     ]
    }
   ],
   "source": [
    "#Simple instructions to download the catalog, it checks it don't exist...\n",
    "#It can take a while so don't desperate.\n",
    "\n",
    "if not os.path.exists(file):\n",
    "        print(\"downloading DR14 quasar dataset from %s to %s\"\n",
    "              % (DATA_URL+file, local_file ))\n",
    "        tmp = urllib.request.urlretrieve(DATA_URL+local_file, local_file)\n",
    "        print (\"Downloaded file\"+local_file)\n",
    "else:\n",
    "    print(\"%s already exist\"%(local_file))"
   ]
  },
  {
   "cell_type": "code",
   "execution_count": 5,
   "metadata": {},
   "outputs": [
    {
     "name": "stderr",
     "output_type": "stream",
     "text": [
      "WARNING: UnitsWarning: 'erg/s/cm2' contains multiple slashes, which is discouraged by the FITS standard [astropy.units.format.generic]\n",
      "WARNING: UnitsWarning: 'W/m2/Hz' contains multiple slashes, which is discouraged by the FITS standard [astropy.units.format.generic]\n"
     ]
    }
   ],
   "source": [
    "catalog=Table.read('DR14Q_v4_4.fits')\n",
    "#catalog.colnames"
   ]
  },
  {
   "cell_type": "code",
   "execution_count": null,
   "metadata": {},
   "outputs": [],
   "source": [
    "#catalog"
   ]
  },
  {
   "cell_type": "code",
   "execution_count": 6,
   "metadata": {},
   "outputs": [],
   "source": [
    "#select objects with THING_ID>0. Also select the qso's within the zmin, zmax redshift interval, defined so that\n",
    "#we capture many lyman alpha quasars \n",
    "w=(catalog['THING_ID']>0) & (catalog['Z']>2) & (catalog['Z']<4) & (catalog['RA']!=catalog['DEC'])& (catalog['RA']>0) & (catalog['DEC']>0)\n",
    "reduced_cat=catalog[w]\n",
    "#reduced_cat"
   ]
  },
  {
   "cell_type": "code",
   "execution_count": 7,
   "metadata": {},
   "outputs": [],
   "source": [
    "#Group the catalog by PLATE and select only first N objects you want to use... \n",
    "#Note I've used only 50 here but the idea would be to download many more... \n",
    "cat_by_plate=reduced_cat.group_by('PLATE')\n",
    "small_cat=cat_by_plate[0:100]\n",
    "#small_cat"
   ]
  },
  {
   "cell_type": "code",
   "execution_count": 8,
   "metadata": {},
   "outputs": [
    {
     "data": {
      "text/plain": [
       "Text(0,0.5,'DEC')"
      ]
     },
     "execution_count": 8,
     "metadata": {},
     "output_type": "execute_result"
    },
    {
     "data": {
      "image/png": "[encoded data removed]",
      "text/plain": [
       "<Figure size 432x288 with 1 Axes>"
      ]
     },
     "metadata": {},
     "output_type": "display_data"
    }
   ],
   "source": [
    "#Lets plot the distribution in RA/DEC of the full catalog, and the small catalog\n",
    "plt.scatter(cat_by_plate['RA'],cat_by_plate['DEC'],marker='.')\n",
    "plt.scatter(small_cat['RA'],small_cat['DEC'],marker='.')\n",
    "plt.xlabel('RA')\n",
    "plt.ylabel('DEC')"
   ]
  },
  {
   "cell_type": "code",
   "execution_count": 9,
   "metadata": {},
   "outputs": [],
   "source": [
    "thing_id=small_cat['THING_ID']\n",
    "fiberid=small_cat['FIBERID']\n",
    "plate=small_cat['PLATE']\n",
    "zqso=small_cat['Z']"
   ]
  },
  {
   "cell_type": "code",
   "execution_count": 10,
   "metadata": {},
   "outputs": [],
   "source": [
    "#GET THE UNIQUE PLATES WE NEED TO DOWNLOAD FOR THE SELECTION ABOVE AND CONSTRUCT THE FILE NAMES WE NEED. \n",
    "plate_list=[]\n",
    "for p,m in zip(small_cat['PLATE'],small_cat['MJD']):\n",
    "    plate_list.append(str(p)+'/spPlate-'+str(p)+'-'+str(m)+'.fits')\n",
    "plate_list=np.unique(plate_list)\n",
    "#plate_list"
   ]
  },
  {
   "cell_type": "code",
   "execution_count": 11,
   "metadata": {},
   "outputs": [
    {
     "data": {
      "text/plain": [
       "array(['3586/spPlate-3586-55181.fits'], dtype='<U28')"
      ]
     },
     "execution_count": 11,
     "metadata": {},
     "output_type": "execute_result"
    }
   ],
   "source": [
    "plate_list[0:1]"
   ]
  },
  {
   "cell_type": "code",
   "execution_count": 12,
   "metadata": {},
   "outputs": [
    {
     "name": "stdout",
     "output_type": "stream",
     "text": [
      "https://data.sdss.org/sas/dr14/eboss/spectro/redux/v5_10_0/3586/spPlate-3586-55181.fits  ./spPlates/spPlate-3586-55181.fits present on disk. \n"
     ]
    }
   ],
   "source": [
    "#Takes some minutes... we will have this data on a \n",
    "plates_url='https://data.sdss.org/sas/dr14/eboss/spectro/redux/v5_10_0/'\n",
    "plates_local='./spPlates/'\n",
    "\n",
    "if not os.path.exists(plates_local):\n",
    "        os.makedirs(plates_local)\n",
    "\n",
    "#for plate_ in plate_list:\n",
    "for plate_ in plate_list[0:1]:\n",
    "    url_file = os.path.join(plates_url,plate_)\n",
    "    local_file=plates_local+plate_.split(\"/\")[1]\n",
    "    if not os.path.exists(local_file):\n",
    "        print(\"downloading spplate from %s to %s\"\n",
    "              % (url_file, local_file))\n",
    "        tmp = urllib.request.urlretrieve(url_file, local_file)\n",
    "    else:\n",
    "        print('%s  %s present on disk. '%(url_file,local_file))"
   ]
  },
  {
   "cell_type": "code",
   "execution_count": null,
   "metadata": {},
   "outputs": [],
   "source": []
  },
  {
   "cell_type": "code",
   "execution_count": null,
   "metadata": {},
   "outputs": [],
   "source": []
  },
  {
   "cell_type": "code",
   "execution_count": null,
   "metadata": {},
   "outputs": [],
   "source": []
  },
  {
   "cell_type": "code",
   "execution_count": null,
   "metadata": {},
   "outputs": [],
   "source": []
  }
 ],
 "metadata": {
  "kernelspec": {
   "display_name": "Python 3",
   "language": "python",
   "name": "python3"
  },
  "language_info": {
   "codemirror_mode": {
    "name": "ipython",
    "version": 3
   },
   "file_extension": ".py",
   "mimetype": "text/x-python",
   "name": "python",
   "nbconvert_exporter": "python",
   "pygments_lexer": "ipython3",
   "version": "3.6.5"
  }
 },
 "nbformat": 4,
 "nbformat_minor": 2
}
