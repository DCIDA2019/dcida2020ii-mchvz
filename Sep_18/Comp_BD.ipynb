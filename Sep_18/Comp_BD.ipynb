{
 "cells": [
  {
   "cell_type": "code",
   "execution_count": 46,
   "metadata": {},
   "outputs": [
    {
     "name": "stdout",
     "output_type": "stream",
     "text": [
      "Once deleted, variables cannot be recovered. Proceed (y/[n])? y\n"
     ]
    }
   ],
   "source": [
    "%reset"
   ]
  },
  {
   "cell_type": "code",
   "execution_count": 47,
   "metadata": {},
   "outputs": [],
   "source": [
    "import os\n",
    "import requests\n",
    "import pandas as pd\n",
    "import matplotlib.pyplot as plt\n",
    "import numpy as np"
   ]
  },
  {
   "cell_type": "code",
   "execution_count": 48,
   "metadata": {},
   "outputs": [],
   "source": [
    "#descarga las tablas y las almacena en la variable cat\n",
    "def dow(url,cat):\n",
    "    \n",
    "    for i in range(len(url)):\n",
    "        html = requests.get(url[i]).content\n",
    "        x_list = pd.read_html(html,header=-1)\n",
    "        x = x_list[0]\n",
    "        cat.append(x[4:])"
   ]
  },
  {
   "cell_type": "code",
   "execution_count": 49,
   "metadata": {},
   "outputs": [],
   "source": [
    "#hace una grafica de barras comparandolas por años\n",
    "#what son los datos, name es el nombre de cada dato\n",
    "def barritas(what,name):\n",
    "    \n",
    "    width=0.8/len(what)\n",
    "    fig, ax = plt.subplots()\n",
    "#     plt.figure(figsize=(15,8))\n",
    "    for i in range(len(what)):\n",
    "        ax.bar(cat[0]['year'] - width/2 + width*i, 100*what[i], width ,label=name[i])\n",
    "\n",
    "#    plt.title(title)\n",
    "    plt.grid()\n",
    "    plt.legend()\n",
    "    plt.xlabel('Año')\n",
    "    plt.ylabel('% de la población')\n",
    "    plt.show()"
   ]
  },
  {
   "cell_type": "code",
   "execution_count": 50,
   "metadata": {},
   "outputs": [],
   "source": [
    "#Calcula la mediana\n",
    "def median(data):\n",
    "    n = len(data)\n",
    "    index = n // 2\n",
    "    \n",
    "    if n % 2:\n",
    "        return sorted(data)[index]\n",
    "    \n",
    "    return sum(sorted(data)[index - 1:index + 1]) / 2"
   ]
  },
  {
   "cell_type": "markdown",
   "metadata": {},
   "source": [
    "# Readme"
   ]
  },
  {
   "cell_type": "code",
   "execution_count": 51,
   "metadata": {},
   "outputs": [
    {
     "data": {
      "text/html": [
       "<div>\n",
       "<style scoped>\n",
       "    .dataframe tbody tr th:only-of-type {\n",
       "        vertical-align: middle;\n",
       "    }\n",
       "\n",
       "    .dataframe tbody tr th {\n",
       "        vertical-align: top;\n",
       "    }\n",
       "\n",
       "    .dataframe thead th {\n",
       "        text-align: right;\n",
       "    }\n",
       "</style>\n",
       "<table border=\"1\" class=\"dataframe\">\n",
       "  <thead>\n",
       "    <tr style=\"text-align: right;\">\n",
       "      <th></th>\n",
       "      <th>Header</th>\n",
       "      <th>Description</th>\n",
       "    </tr>\n",
       "  </thead>\n",
       "  <tbody>\n",
       "    <tr>\n",
       "      <th>0</th>\n",
       "      <td>all</td>\n",
       "      <td>Total (or all men/women in sex-specific files)</td>\n",
       "    </tr>\n",
       "    <tr>\n",
       "      <th>1</th>\n",
       "      <td>HS</td>\n",
       "      <td>High school graduate or less (EDUCD &lt; 65)</td>\n",
       "    </tr>\n",
       "    <tr>\n",
       "      <th>2</th>\n",
       "      <td>SC</td>\n",
       "      <td>Some college (EDUCD &gt;= 65 &amp; &lt;= 100)</td>\n",
       "    </tr>\n",
       "    <tr>\n",
       "      <th>3</th>\n",
       "      <td>BAp</td>\n",
       "      <td>Bachelor's degree or more (EDUCD &gt; 100)</td>\n",
       "    </tr>\n",
       "    <tr>\n",
       "      <th>4</th>\n",
       "      <td>BAo</td>\n",
       "      <td>Bachelor's degree, no graduate degre (EDUCD &gt; ...</td>\n",
       "    </tr>\n",
       "    <tr>\n",
       "      <th>5</th>\n",
       "      <td>GD</td>\n",
       "      <td>Graduate degree (EDUCD &gt; 113)</td>\n",
       "    </tr>\n",
       "    <tr>\n",
       "      <th>6</th>\n",
       "      <td>White</td>\n",
       "      <td>Non-Hispanic white</td>\n",
       "    </tr>\n",
       "    <tr>\n",
       "      <th>7</th>\n",
       "      <td>Black</td>\n",
       "      <td>Black or African-American</td>\n",
       "    </tr>\n",
       "    <tr>\n",
       "      <th>8</th>\n",
       "      <td>Hisp</td>\n",
       "      <td>Hispanic of any race</td>\n",
       "    </tr>\n",
       "    <tr>\n",
       "      <th>9</th>\n",
       "      <td>NE</td>\n",
       "      <td>New England (REGION == 11)</td>\n",
       "    </tr>\n",
       "    <tr>\n",
       "      <th>10</th>\n",
       "      <td>MA</td>\n",
       "      <td>Mid-Atlantic (REGION == 12)</td>\n",
       "    </tr>\n",
       "    <tr>\n",
       "      <th>11</th>\n",
       "      <td>Midwest</td>\n",
       "      <td>Midwest (REGION == 21-23)</td>\n",
       "    </tr>\n",
       "    <tr>\n",
       "      <th>12</th>\n",
       "      <td>South</td>\n",
       "      <td>South (REGION == 31-34)</td>\n",
       "    </tr>\n",
       "    <tr>\n",
       "      <th>13</th>\n",
       "      <td>Mountain</td>\n",
       "      <td>Mountain West (REGION == 41)</td>\n",
       "    </tr>\n",
       "    <tr>\n",
       "      <th>14</th>\n",
       "      <td>Pacific</td>\n",
       "      <td>Pacific (REGION == 42)</td>\n",
       "    </tr>\n",
       "    <tr>\n",
       "      <th>15</th>\n",
       "      <td>poor</td>\n",
       "      <td>Family income in lowest 25%</td>\n",
       "    </tr>\n",
       "    <tr>\n",
       "      <th>16</th>\n",
       "      <td>mid</td>\n",
       "      <td>Family income in middle 50%</td>\n",
       "    </tr>\n",
       "    <tr>\n",
       "      <th>17</th>\n",
       "      <td>rich</td>\n",
       "      <td>Family income in top 25%</td>\n",
       "    </tr>\n",
       "    <tr>\n",
       "      <th>18</th>\n",
       "      <td>work</td>\n",
       "      <td>Employed 50+ weeks prior year</td>\n",
       "    </tr>\n",
       "    <tr>\n",
       "      <th>19</th>\n",
       "      <td>nowork</td>\n",
       "      <td>Not employed at least 50 weeks prior year</td>\n",
       "    </tr>\n",
       "    <tr>\n",
       "      <th>20</th>\n",
       "      <td>nokids_all</td>\n",
       "      <td>No own children living at home</td>\n",
       "    </tr>\n",
       "    <tr>\n",
       "      <th>21</th>\n",
       "      <td>kids_all</td>\n",
       "      <td>At least one own child living at home</td>\n",
       "    </tr>\n",
       "  </tbody>\n",
       "</table>\n",
       "</div>"
      ],
      "text/plain": [
       "        Header                                        Description\n",
       "0          all     Total (or all men/women in sex-specific files)\n",
       "1           HS          High school graduate or less (EDUCD < 65)\n",
       "2           SC                Some college (EDUCD >= 65 & <= 100)\n",
       "3          BAp            Bachelor's degree or more (EDUCD > 100)\n",
       "4          BAo  Bachelor's degree, no graduate degre (EDUCD > ...\n",
       "5           GD                      Graduate degree (EDUCD > 113)\n",
       "6        White                                 Non-Hispanic white\n",
       "7        Black                          Black or African-American\n",
       "8         Hisp                               Hispanic of any race\n",
       "9           NE                         New England (REGION == 11)\n",
       "10          MA                        Mid-Atlantic (REGION == 12)\n",
       "11     Midwest                          Midwest (REGION == 21-23)\n",
       "12       South                            South (REGION == 31-34)\n",
       "13    Mountain                       Mountain West (REGION == 41)\n",
       "14     Pacific                             Pacific (REGION == 42)\n",
       "15        poor                        Family income in lowest 25%\n",
       "16         mid                        Family income in middle 50%\n",
       "17        rich                           Family income in top 25%\n",
       "18        work                      Employed 50+ weeks prior year\n",
       "19      nowork          Not employed at least 50 weeks prior year\n",
       "20  nokids_all                     No own children living at home\n",
       "21    kids_all              At least one own child living at home"
      ]
     },
     "execution_count": 51,
     "metadata": {},
     "output_type": "execute_result"
    }
   ],
   "source": [
    "html = requests.get('https://github.com/resbaz/data/blob/master/marriage/README.md').content\n",
    "x_list = pd.read_html(html,header=-1)\n",
    "x = x_list[0]\n",
    "x"
   ]
  },
  {
   "cell_type": "code",
   "execution_count": 52,
   "metadata": {},
   "outputs": [],
   "source": [
    "#tablas de datos que se van a analizar\n",
    "#both sexes, divorces,men, women\n",
    "url = ['https://github.com/resbaz/data/blob/master/marriage/both_sexes.csv',\n",
    "      'https://github.com/resbaz/data/blob/master/marriage/divorce.csv',\n",
    "      'https://github.com/resbaz/data/blob/master/marriage/men.csv',\n",
    "      'https://github.com/resbaz/data/blob/master/marriage/women.csv'\n",
    "      ]\n",
    "\n",
    "cat = []\n"
   ]
  },
  {
   "cell_type": "code",
   "execution_count": 53,
   "metadata": {},
   "outputs": [],
   "source": [
    "dow(url,cat)"
   ]
  },
  {
   "cell_type": "markdown",
   "metadata": {},
   "source": [
    "# Plots"
   ]
  },
  {
   "cell_type": "code",
   "execution_count": 54,
   "metadata": {},
   "outputs": [],
   "source": [
    "#De las tablas precargadas utilizaré los datos de 35 a 44 años \n",
    "# excepto para comparar la situación laboral que utilizare de 25 a 34 años.\n",
    "\n",
    "#Los datos representan el índice con respecto a la población total de esa edad.\n",
    "\n",
    "#los nombres de las columnas estan escritos como: clave_edades. \n",
    "#ej. Para todos de 25 a 34 años: all_2534 "
   ]
  },
  {
   "cell_type": "markdown",
   "metadata": {},
   "source": [
    "1- ¿Cómo es el índice de divorcios contra el de matrimonios?"
   ]
  },
  {
   "cell_type": "code",
   "execution_count": null,
   "metadata": {},
   "outputs": [],
   "source": [
    "what = [cat[0]['all_3544'],cat[1]['all_3544']]\n",
    "name = ['Marriages','Divorces']\n",
    "\n",
    "barritas(what,name)\n",
    "\n",
    "ratio = cat[0]['all_3544']/cat[1]['all_3544']\n",
    "# ratio"
   ]
  },
  {
   "cell_type": "code",
   "execution_count": 90,
   "metadata": {
    "scrolled": true
   },
   "outputs": [
    {
     "data": {
      "image/png": "[encoded data removed]",
      "text/plain": [
       "<Figure size 432x288 with 1 Axes>"
      ]
     },
     "metadata": {},
     "output_type": "display_data"
    },
    {
     "data": {
      "text/plain": [
       "4     0.995013\n",
       "5     0.994399\n",
       "6     1.020242\n",
       "7     1.045863\n",
       "8     1.066639\n",
       "9     1.102508\n",
       "10    1.175078\n",
       "11    1.205842\n",
       "12    1.231200\n",
       "13    1.265086\n",
       "14    1.265965\n",
       "15    1.276170\n",
       "16    1.305348\n",
       "Name: all_3544, dtype: float64"
      ]
     },
     "execution_count": 90,
     "metadata": {},
     "output_type": "execute_result"
    }
   ],
   "source": [
    "what = [cat[0]['all_3544'],cat[1]['all_3544']]\n",
    "name = ['Marriages','Divorces']\n",
    "\n",
    "barritas(what,name)\n",
    "\n",
    "ratio = cat[0]['all_3544']/cat[1]['all_3544']\n",
    "# ratio = pd.DataFrame(ratio, index=cat[0]['year'])\n",
    "ratio"
   ]
  },
  {
   "cell_type": "markdown",
   "metadata": {},
   "source": [
    "2- Comparar matrimonios por clase social"
   ]
  },
  {
   "cell_type": "code",
   "execution_count": 56,
   "metadata": {},
   "outputs": [
    {
     "data": {
      "image/png": "[encoded data removed]",
      "text/plain": [
       "<Figure size 432x288 with 1 Axes>"
      ]
     },
     "metadata": {},
     "output_type": "display_data"
    }
   ],
   "source": [
    "what = [cat[0]['poor_3544'],cat[0]['mid_3544'],cat[0]['rich_3544']]\n",
    "name = ['rich','medium','poor']\n",
    "\n",
    "barritas(what,name)"
   ]
  },
  {
   "cell_type": "markdown",
   "metadata": {},
   "source": [
    "3- Comparar número de matrimonios divorcios con el nivel escolar"
   ]
  },
  {
   "cell_type": "code",
   "execution_count": 57,
   "metadata": {},
   "outputs": [
    {
     "data": {
      "image/png": "[encoded data removed]",
      "text/plain": [
       "<Figure size 432x288 with 1 Axes>"
      ]
     },
     "metadata": {},
     "output_type": "display_data"
    }
   ],
   "source": [
    "what = [cat[0]['HS_3544'],cat[0]['SC_3544'], cat[0]['BAp_3544'], cat[0]['BAo_3544'], cat[0]['GD_3544']]\n",
    "name = ['HS', 'SC', 'BAp', 'BAo', 'GD']\n",
    "\n",
    "barritas(what,name)"
   ]
  },
  {
   "cell_type": "markdown",
   "metadata": {},
   "source": [
    "4- Comparar hombres contra mujeres"
   ]
  },
  {
   "cell_type": "code",
   "execution_count": 58,
   "metadata": {},
   "outputs": [
    {
     "data": {
      "image/png": "[encoded data removed]",
      "text/plain": [
       "<Figure size 432x288 with 1 Axes>"
      ]
     },
     "metadata": {},
     "output_type": "display_data"
    }
   ],
   "source": [
    "what = [cat[2]['all_3544'],cat[3]['all_3544']]\n",
    "name = ['Hombres','Mujeres']\n",
    "\n",
    "barritas(what,name)"
   ]
  },
  {
   "cell_type": "markdown",
   "metadata": {},
   "source": [
    "5- Comparar por raza"
   ]
  },
  {
   "cell_type": "code",
   "execution_count": 59,
   "metadata": {},
   "outputs": [
    {
     "data": {
      "image/png": "[encoded data removed]",
      "text/plain": [
       "<Figure size 432x288 with 1 Axes>"
      ]
     },
     "metadata": {},
     "output_type": "display_data"
    }
   ],
   "source": [
    "what = [cat[0]['White_3544'], cat[0]['Black_3544'], cat[0]['Hisp_3544']]\n",
    "name = ['White', 'Black', 'Hisp']\n",
    "\n",
    "barritas(what,name)"
   ]
  },
  {
   "cell_type": "markdown",
   "metadata": {},
   "source": [
    "8- Comparar matrimonios por situación laboral"
   ]
  },
  {
   "cell_type": "code",
   "execution_count": 60,
   "metadata": {},
   "outputs": [
    {
     "data": {
      "image/png": "[encoded data removed]",
      "text/plain": [
       "<Figure size 432x288 with 1 Axes>"
      ]
     },
     "metadata": {},
     "output_type": "display_data"
    }
   ],
   "source": [
    "what = [cat[0]['all_2534'], cat[2]['work_2534'], cat[3]['work_2534']]\n",
    "name = ['All', 'M_work','W_work']\n",
    "\n",
    "barritas(what,name)"
   ]
  },
  {
   "cell_type": "code",
   "execution_count": 61,
   "metadata": {},
   "outputs": [
    {
     "data": {
      "image/png": "[encoded data removed]",
      "text/plain": [
       "<Figure size 432x288 with 1 Axes>"
      ]
     },
     "metadata": {},
     "output_type": "display_data"
    }
   ],
   "source": [
    "what = [cat[0]['all_2534'], (cat[2]['work_2534']+ cat[3]['work_2534'])/2]\n",
    "name = ['All', 'Work']\n",
    "\n",
    "barritas(what,name)"
   ]
  },
  {
   "cell_type": "markdown",
   "metadata": {},
   "source": [
    "6- Identificar el año con más bodas, menos bodas, más divorcios, menos divorcios."
   ]
  },
  {
   "cell_type": "code",
   "execution_count": 87,
   "metadata": {},
   "outputs": [
    {
     "data": {
      "image/png": "[encoded data removed]",
      "text/plain": [
       "<Figure size 432x288 with 1 Axes>"
      ]
     },
     "metadata": {},
     "output_type": "display_data"
    }
   ],
   "source": [
    "x=cat[0]['all_3544'][cat[0]['all_3544']==max(cat[0]['all_3544'])]\n",
    "ma=x.keys()\n",
    "x=cat[0]['all_3544'][cat[0]['all_3544']==min(cat[0]['all_3544'])]\n",
    "mi=x.keys()\n",
    "\n",
    "prom=100*sum(cat[0]['all_3544']) / len(cat[0]['all_3544'])\n",
    "\n",
    "plt.bar(cat[0]['year'],100*cat[0]['all_3544'])\n",
    "plt.bar(cat[0]['year'][ma],100*max(cat[0]['all_3544']), label='Max')\n",
    "plt.bar(cat[0]['year'][mi],100*min(cat[0]['all_3544']), label='Min')\n",
    "plt.plot([1999,2013],[prom,prom],'--',color='red')\n",
    "plt.title('Casados')\n",
    "plt.grid()\n",
    "plt.legend()\n",
    "plt.xlabel('Año')\n",
    "plt.ylabel('% de la población')\n",
    "plt.show()"
   ]
  },
  {
   "cell_type": "code",
   "execution_count": 88,
   "metadata": {},
   "outputs": [
    {
     "data": {
      "image/png": "[encoded data removed]",
      "text/plain": [
       "<Figure size 432x288 with 1 Axes>"
      ]
     },
     "metadata": {},
     "output_type": "display_data"
    }
   ],
   "source": [
    "x=cat[1]['all_3544'][cat[1]['all_3544']==max(cat[1]['all_3544'])]\n",
    "ma=x.keys()\n",
    "x=cat[1]['all_3544'][cat[1]['all_3544']==min(cat[1]['all_3544'])]\n",
    "mi=x.keys()\n",
    "\n",
    "prom=100*sum(cat[1]['all_3544']) / len(cat[1]['all_3544'])\n",
    "\n",
    "plt.bar(cat[1]['year'],100*cat[1]['all_3544'])\n",
    "plt.bar(cat[1]['year'][ma],100*max(cat[1]['all_3544']), label='Max')\n",
    "plt.bar(cat[1]['year'][mi],100*min(cat[1]['all_3544']), label='Min')\n",
    "plt.plot([1999,2013],[prom,prom],'--',color='red')\n",
    "plt.title('Divorciados')\n",
    "plt.grid()\n",
    "plt.legend()\n",
    "plt.xlabel('Año')\n",
    "plt.ylabel('% de la población')\n",
    "plt.show()"
   ]
  },
  {
   "cell_type": "markdown",
   "metadata": {},
   "source": [
    "7-media, mediana y moda de matrimonios/divorcios a lo largo de los años"
   ]
  },
  {
   "cell_type": "code",
   "execution_count": 83,
   "metadata": {},
   "outputs": [
    {
     "name": "stdout",
     "output_type": "stream",
     "text": [
      "Casados\n",
      "Promedio 18.36483749297762\n",
      "Mediana 19.0233194660955\n"
     ]
    }
   ],
   "source": [
    "print('Casados')\n",
    "#Promedio\n",
    "print('Promedio',100*sum(cat[0]['all_3544']) / len(cat[0]['all_3544']))\n",
    "#Mediana\n",
    "print('Mediana',100*median(cat[0]['all_3544']))"
   ]
  },
  {
   "cell_type": "code",
   "execution_count": 84,
   "metadata": {},
   "outputs": [
    {
     "data": {
      "text/plain": [
       "count    13.000000\n",
       "mean      0.183648\n",
       "std       0.022941\n",
       "min       0.156059\n",
       "25%       0.160899\n",
       "50%       0.190233\n",
       "75%       0.203038\n",
       "max       0.216017\n",
       "Name: all_3544, dtype: float64"
      ]
     },
     "execution_count": 84,
     "metadata": {},
     "output_type": "execute_result"
    }
   ],
   "source": [
    "cat[0]['all_3544'].describe()"
   ]
  },
  {
   "cell_type": "code",
   "execution_count": 65,
   "metadata": {},
   "outputs": [
    {
     "name": "stdout",
     "output_type": "stream",
     "text": [
      "Divorciados\n",
      "Promedio 15.936238344434374\n",
      "Mediana 16.0468871507897\n"
     ]
    }
   ],
   "source": [
    "print('Divorciados')\n",
    "#Promedio\n",
    "print('Promedio',100*sum(cat[1]['all_3544']) / len(cat[1]['all_3544']))\n",
    "#Mediana\n",
    "print('Mediana',100*median(cat[1]['all_3544']))"
   ]
  },
  {
   "cell_type": "code",
   "execution_count": 69,
   "metadata": {},
   "outputs": [
    {
     "data": {
      "text/plain": [
       "count    13.000000\n",
       "mean      0.159362\n",
       "std       0.004352\n",
       "min       0.152920\n",
       "25%       0.156508\n",
       "50%       0.160469\n",
       "75%       0.161890\n",
       "max       0.166303\n",
       "Name: all_3544, dtype: float64"
      ]
     },
     "execution_count": 69,
     "metadata": {},
     "output_type": "execute_result"
    }
   ],
   "source": [
    "cat[1]['all_3544'].describe()"
   ]
  },
  {
   "cell_type": "code",
   "execution_count": 91,
   "metadata": {},
   "outputs": [
    {
     "data": {
      "text/html": [
       "<div>\n",
       "<style scoped>\n",
       "    .dataframe tbody tr th:only-of-type {\n",
       "        vertical-align: middle;\n",
       "    }\n",
       "\n",
       "    .dataframe tbody tr th {\n",
       "        vertical-align: top;\n",
       "    }\n",
       "\n",
       "    .dataframe thead th {\n",
       "        text-align: right;\n",
       "    }\n",
       "</style>\n",
       "<table border=\"1\" class=\"dataframe\">\n",
       "  <thead>\n",
       "    <tr style=\"text-align: right;\">\n",
       "      <th></th>\n",
       "      <th>Unnamed: 0</th>\n",
       "      <th>Unnamed: 1</th>\n",
       "      <th>year</th>\n",
       "      <th>date</th>\n",
       "      <th>all_2534</th>\n",
       "      <th>HS_2534</th>\n",
       "      <th>SC_2534</th>\n",
       "      <th>BAp_2534</th>\n",
       "      <th>BAo_2534</th>\n",
       "      <th>GD_2534</th>\n",
       "      <th>...</th>\n",
       "      <th>kids_SC_2534</th>\n",
       "      <th>kids_BAp_2534</th>\n",
       "      <th>kids_BAo_2534</th>\n",
       "      <th>kids_GD_2534</th>\n",
       "      <th>nokids_poor_2534</th>\n",
       "      <th>nokids_mid_2534</th>\n",
       "      <th>nokids_rich_2534</th>\n",
       "      <th>kids_poor_2534</th>\n",
       "      <th>kids_mid_2534</th>\n",
       "      <th>kids_rich_2534</th>\n",
       "    </tr>\n",
       "  </thead>\n",
       "  <tbody>\n",
       "    <tr>\n",
       "      <th>4</th>\n",
       "      <td>NaN</td>\n",
       "      <td>5</td>\n",
       "      <td>2000</td>\n",
       "      <td>2000-01-01</td>\n",
       "      <td>0.345009</td>\n",
       "      <td>0.331655</td>\n",
       "      <td>0.324921</td>\n",
       "      <td>0.387491</td>\n",
       "      <td>0.393958</td>\n",
       "      <td>0.369174</td>\n",
       "      <td>...</td>\n",
       "      <td>0.097625</td>\n",
       "      <td>0.037002</td>\n",
       "      <td>0.040101</td>\n",
       "      <td>0.027615</td>\n",
       "      <td>0.705545</td>\n",
       "      <td>0.569023</td>\n",
       "      <td>0.445802</td>\n",
       "      <td>0.256282</td>\n",
       "      <td>0.059785</td>\n",
       "      <td>0.029564</td>\n",
       "    </tr>\n",
       "    <tr>\n",
       "      <th>5</th>\n",
       "      <td>NaN</td>\n",
       "      <td>6</td>\n",
       "      <td>2001</td>\n",
       "      <td>2001-01-01</td>\n",
       "      <td>0.352777</td>\n",
       "      <td>0.344607</td>\n",
       "      <td>0.334110</td>\n",
       "      <td>0.383569</td>\n",
       "      <td>0.392515</td>\n",
       "      <td>0.359030</td>\n",
       "      <td>...</td>\n",
       "      <td>0.110031</td>\n",
       "      <td>0.039980</td>\n",
       "      <td>0.044584</td>\n",
       "      <td>0.026450</td>\n",
       "      <td>0.714733</td>\n",
       "      <td>0.586474</td>\n",
       "      <td>0.446111</td>\n",
       "      <td>0.280146</td>\n",
       "      <td>0.067795</td>\n",
       "      <td>0.033654</td>\n",
       "    </tr>\n",
       "    <tr>\n",
       "      <th>6</th>\n",
       "      <td>NaN</td>\n",
       "      <td>7</td>\n",
       "      <td>2002</td>\n",
       "      <td>2002-01-01</td>\n",
       "      <td>0.353525</td>\n",
       "      <td>0.349037</td>\n",
       "      <td>0.336160</td>\n",
       "      <td>0.377433</td>\n",
       "      <td>0.387084</td>\n",
       "      <td>0.351285</td>\n",
       "      <td>...</td>\n",
       "      <td>0.122975</td>\n",
       "      <td>0.040139</td>\n",
       "      <td>0.045616</td>\n",
       "      <td>0.024765</td>\n",
       "      <td>0.718467</td>\n",
       "      <td>0.582835</td>\n",
       "      <td>0.451421</td>\n",
       "      <td>0.285886</td>\n",
       "      <td>0.071385</td>\n",
       "      <td>0.032093</td>\n",
       "    </tr>\n",
       "    <tr>\n",
       "      <th>7</th>\n",
       "      <td>NaN</td>\n",
       "      <td>8</td>\n",
       "      <td>2003</td>\n",
       "      <td>2003-01-01</td>\n",
       "      <td>0.362035</td>\n",
       "      <td>0.358188</td>\n",
       "      <td>0.341893</td>\n",
       "      <td>0.387381</td>\n",
       "      <td>0.400004</td>\n",
       "      <td>0.353813</td>\n",
       "      <td>...</td>\n",
       "      <td>0.121568</td>\n",
       "      <td>0.046566</td>\n",
       "      <td>0.051983</td>\n",
       "      <td>0.032362</td>\n",
       "      <td>0.726908</td>\n",
       "      <td>0.595961</td>\n",
       "      <td>0.452032</td>\n",
       "      <td>0.292613</td>\n",
       "      <td>0.075946</td>\n",
       "      <td>0.029371</td>\n",
       "    </tr>\n",
       "    <tr>\n",
       "      <th>8</th>\n",
       "      <td>NaN</td>\n",
       "      <td>9</td>\n",
       "      <td>2004</td>\n",
       "      <td>2004-01-01</td>\n",
       "      <td>0.367325</td>\n",
       "      <td>0.370810</td>\n",
       "      <td>0.345075</td>\n",
       "      <td>0.384736</td>\n",
       "      <td>0.397612</td>\n",
       "      <td>0.351773</td>\n",
       "      <td>...</td>\n",
       "      <td>0.120966</td>\n",
       "      <td>0.047564</td>\n",
       "      <td>0.052674</td>\n",
       "      <td>0.034154</td>\n",
       "      <td>0.732716</td>\n",
       "      <td>0.599756</td>\n",
       "      <td>0.456414</td>\n",
       "      <td>0.306080</td>\n",
       "      <td>0.080352</td>\n",
       "      <td>0.032626</td>\n",
       "    </tr>\n",
       "    <tr>\n",
       "      <th>9</th>\n",
       "      <td>NaN</td>\n",
       "      <td>10</td>\n",
       "      <td>2005</td>\n",
       "      <td>2005-01-01</td>\n",
       "      <td>0.379345</td>\n",
       "      <td>0.387068</td>\n",
       "      <td>0.359666</td>\n",
       "      <td>0.388610</td>\n",
       "      <td>0.402912</td>\n",
       "      <td>0.351425</td>\n",
       "      <td>...</td>\n",
       "      <td>0.129909</td>\n",
       "      <td>0.045798</td>\n",
       "      <td>0.050996</td>\n",
       "      <td>0.032117</td>\n",
       "      <td>0.737549</td>\n",
       "      <td>0.608968</td>\n",
       "      <td>0.471279</td>\n",
       "      <td>0.323611</td>\n",
       "      <td>0.085249</td>\n",
       "      <td>0.031326</td>\n",
       "    </tr>\n",
       "    <tr>\n",
       "      <th>10</th>\n",
       "      <td>NaN</td>\n",
       "      <td>11</td>\n",
       "      <td>2006</td>\n",
       "      <td>2006-01-01</td>\n",
       "      <td>0.414766</td>\n",
       "      <td>0.431216</td>\n",
       "      <td>0.391218</td>\n",
       "      <td>0.414796</td>\n",
       "      <td>0.429867</td>\n",
       "      <td>0.375723</td>\n",
       "      <td>...</td>\n",
       "      <td>0.142473</td>\n",
       "      <td>0.053935</td>\n",
       "      <td>0.060030</td>\n",
       "      <td>0.038167</td>\n",
       "      <td>0.746882</td>\n",
       "      <td>0.624799</td>\n",
       "      <td>0.550633</td>\n",
       "      <td>0.340848</td>\n",
       "      <td>0.093423</td>\n",
       "      <td>0.038542</td>\n",
       "    </tr>\n",
       "    <tr>\n",
       "      <th>11</th>\n",
       "      <td>NaN</td>\n",
       "      <td>12</td>\n",
       "      <td>2007</td>\n",
       "      <td>2007-01-01</td>\n",
       "      <td>0.426922</td>\n",
       "      <td>0.444139</td>\n",
       "      <td>0.408493</td>\n",
       "      <td>0.420959</td>\n",
       "      <td>0.438975</td>\n",
       "      <td>0.375276</td>\n",
       "      <td>...</td>\n",
       "      <td>0.155116</td>\n",
       "      <td>0.058148</td>\n",
       "      <td>0.065655</td>\n",
       "      <td>0.039503</td>\n",
       "      <td>0.765397</td>\n",
       "      <td>0.638030</td>\n",
       "      <td>0.562454</td>\n",
       "      <td>0.351410</td>\n",
       "      <td>0.099153</td>\n",
       "      <td>0.041134</td>\n",
       "    </tr>\n",
       "    <tr>\n",
       "      <th>12</th>\n",
       "      <td>NaN</td>\n",
       "      <td>13</td>\n",
       "      <td>2008</td>\n",
       "      <td>2008-01-01</td>\n",
       "      <td>0.439441</td>\n",
       "      <td>0.459916</td>\n",
       "      <td>0.423509</td>\n",
       "      <td>0.429751</td>\n",
       "      <td>0.447357</td>\n",
       "      <td>0.384974</td>\n",
       "      <td>...</td>\n",
       "      <td>0.164814</td>\n",
       "      <td>0.056681</td>\n",
       "      <td>0.064701</td>\n",
       "      <td>0.036277</td>\n",
       "      <td>0.774938</td>\n",
       "      <td>0.652362</td>\n",
       "      <td>0.574009</td>\n",
       "      <td>0.370663</td>\n",
       "      <td>0.103536</td>\n",
       "      <td>0.042152</td>\n",
       "    </tr>\n",
       "    <tr>\n",
       "      <th>13</th>\n",
       "      <td>NaN</td>\n",
       "      <td>14</td>\n",
       "      <td>2009</td>\n",
       "      <td>2009-01-01</td>\n",
       "      <td>0.462564</td>\n",
       "      <td>0.484502</td>\n",
       "      <td>0.446994</td>\n",
       "      <td>0.451814</td>\n",
       "      <td>0.474377</td>\n",
       "      <td>0.395694</td>\n",
       "      <td>...</td>\n",
       "      <td>0.179636</td>\n",
       "      <td>0.061046</td>\n",
       "      <td>0.070550</td>\n",
       "      <td>0.038603</td>\n",
       "      <td>0.791970</td>\n",
       "      <td>0.673772</td>\n",
       "      <td>0.582799</td>\n",
       "      <td>0.380555</td>\n",
       "      <td>0.113019</td>\n",
       "      <td>0.044445</td>\n",
       "    </tr>\n",
       "    <tr>\n",
       "      <th>14</th>\n",
       "      <td>NaN</td>\n",
       "      <td>15</td>\n",
       "      <td>2010</td>\n",
       "      <td>2010-01-01</td>\n",
       "      <td>0.469733</td>\n",
       "      <td>0.494222</td>\n",
       "      <td>0.454408</td>\n",
       "      <td>0.456100</td>\n",
       "      <td>0.476813</td>\n",
       "      <td>0.405870</td>\n",
       "      <td>...</td>\n",
       "      <td>0.187071</td>\n",
       "      <td>0.063367</td>\n",
       "      <td>0.072427</td>\n",
       "      <td>0.042132</td>\n",
       "      <td>0.796143</td>\n",
       "      <td>0.673260</td>\n",
       "      <td>0.590034</td>\n",
       "      <td>0.388775</td>\n",
       "      <td>0.124159</td>\n",
       "      <td>0.048194</td>\n",
       "    </tr>\n",
       "    <tr>\n",
       "      <th>15</th>\n",
       "      <td>NaN</td>\n",
       "      <td>16</td>\n",
       "      <td>2011</td>\n",
       "      <td>2011-01-01</td>\n",
       "      <td>0.483334</td>\n",
       "      <td>0.511570</td>\n",
       "      <td>0.468557</td>\n",
       "      <td>0.465825</td>\n",
       "      <td>0.490160</td>\n",
       "      <td>0.407176</td>\n",
       "      <td>...</td>\n",
       "      <td>0.197134</td>\n",
       "      <td>0.067398</td>\n",
       "      <td>0.078865</td>\n",
       "      <td>0.041336</td>\n",
       "      <td>0.804169</td>\n",
       "      <td>0.685124</td>\n",
       "      <td>0.610334</td>\n",
       "      <td>0.403184</td>\n",
       "      <td>0.130887</td>\n",
       "      <td>0.049347</td>\n",
       "    </tr>\n",
       "    <tr>\n",
       "      <th>16</th>\n",
       "      <td>NaN</td>\n",
       "      <td>17</td>\n",
       "      <td>2012</td>\n",
       "      <td>2012-01-01</td>\n",
       "      <td>0.494345</td>\n",
       "      <td>0.523521</td>\n",
       "      <td>0.479934</td>\n",
       "      <td>0.476636</td>\n",
       "      <td>0.502262</td>\n",
       "      <td>0.416458</td>\n",
       "      <td>...</td>\n",
       "      <td>0.203470</td>\n",
       "      <td>0.071002</td>\n",
       "      <td>0.083044</td>\n",
       "      <td>0.044446</td>\n",
       "      <td>0.809307</td>\n",
       "      <td>0.691399</td>\n",
       "      <td>0.618026</td>\n",
       "      <td>0.414789</td>\n",
       "      <td>0.131964</td>\n",
       "      <td>0.049912</td>\n",
       "    </tr>\n",
       "  </tbody>\n",
       "</table>\n",
       "<p>13 rows × 76 columns</p>\n",
       "</div>"
      ],
      "text/plain": [
       "    Unnamed: 0  Unnamed: 1  year        date  all_2534   HS_2534   SC_2534  \\\n",
       "4          NaN           5  2000  2000-01-01  0.345009  0.331655  0.324921   \n",
       "5          NaN           6  2001  2001-01-01  0.352777  0.344607  0.334110   \n",
       "6          NaN           7  2002  2002-01-01  0.353525  0.349037  0.336160   \n",
       "7          NaN           8  2003  2003-01-01  0.362035  0.358188  0.341893   \n",
       "8          NaN           9  2004  2004-01-01  0.367325  0.370810  0.345075   \n",
       "9          NaN          10  2005  2005-01-01  0.379345  0.387068  0.359666   \n",
       "10         NaN          11  2006  2006-01-01  0.414766  0.431216  0.391218   \n",
       "11         NaN          12  2007  2007-01-01  0.426922  0.444139  0.408493   \n",
       "12         NaN          13  2008  2008-01-01  0.439441  0.459916  0.423509   \n",
       "13         NaN          14  2009  2009-01-01  0.462564  0.484502  0.446994   \n",
       "14         NaN          15  2010  2010-01-01  0.469733  0.494222  0.454408   \n",
       "15         NaN          16  2011  2011-01-01  0.483334  0.511570  0.468557   \n",
       "16         NaN          17  2012  2012-01-01  0.494345  0.523521  0.479934   \n",
       "\n",
       "    BAp_2534  BAo_2534   GD_2534       ...        kids_SC_2534  kids_BAp_2534  \\\n",
       "4   0.387491  0.393958  0.369174       ...            0.097625       0.037002   \n",
       "5   0.383569  0.392515  0.359030       ...            0.110031       0.039980   \n",
       "6   0.377433  0.387084  0.351285       ...            0.122975       0.040139   \n",
       "7   0.387381  0.400004  0.353813       ...            0.121568       0.046566   \n",
       "8   0.384736  0.397612  0.351773       ...            0.120966       0.047564   \n",
       "9   0.388610  0.402912  0.351425       ...            0.129909       0.045798   \n",
       "10  0.414796  0.429867  0.375723       ...            0.142473       0.053935   \n",
       "11  0.420959  0.438975  0.375276       ...            0.155116       0.058148   \n",
       "12  0.429751  0.447357  0.384974       ...            0.164814       0.056681   \n",
       "13  0.451814  0.474377  0.395694       ...            0.179636       0.061046   \n",
       "14  0.456100  0.476813  0.405870       ...            0.187071       0.063367   \n",
       "15  0.465825  0.490160  0.407176       ...            0.197134       0.067398   \n",
       "16  0.476636  0.502262  0.416458       ...            0.203470       0.071002   \n",
       "\n",
       "    kids_BAo_2534  kids_GD_2534  nokids_poor_2534  nokids_mid_2534  \\\n",
       "4        0.040101      0.027615          0.705545         0.569023   \n",
       "5        0.044584      0.026450          0.714733         0.586474   \n",
       "6        0.045616      0.024765          0.718467         0.582835   \n",
       "7        0.051983      0.032362          0.726908         0.595961   \n",
       "8        0.052674      0.034154          0.732716         0.599756   \n",
       "9        0.050996      0.032117          0.737549         0.608968   \n",
       "10       0.060030      0.038167          0.746882         0.624799   \n",
       "11       0.065655      0.039503          0.765397         0.638030   \n",
       "12       0.064701      0.036277          0.774938         0.652362   \n",
       "13       0.070550      0.038603          0.791970         0.673772   \n",
       "14       0.072427      0.042132          0.796143         0.673260   \n",
       "15       0.078865      0.041336          0.804169         0.685124   \n",
       "16       0.083044      0.044446          0.809307         0.691399   \n",
       "\n",
       "    nokids_rich_2534  kids_poor_2534  kids_mid_2534  kids_rich_2534  \n",
       "4           0.445802        0.256282       0.059785        0.029564  \n",
       "5           0.446111        0.280146       0.067795        0.033654  \n",
       "6           0.451421        0.285886       0.071385        0.032093  \n",
       "7           0.452032        0.292613       0.075946        0.029371  \n",
       "8           0.456414        0.306080       0.080352        0.032626  \n",
       "9           0.471279        0.323611       0.085249        0.031326  \n",
       "10          0.550633        0.340848       0.093423        0.038542  \n",
       "11          0.562454        0.351410       0.099153        0.041134  \n",
       "12          0.574009        0.370663       0.103536        0.042152  \n",
       "13          0.582799        0.380555       0.113019        0.044445  \n",
       "14          0.590034        0.388775       0.124159        0.048194  \n",
       "15          0.610334        0.403184       0.130887        0.049347  \n",
       "16          0.618026        0.414789       0.131964        0.049912  \n",
       "\n",
       "[13 rows x 76 columns]"
      ]
     },
     "execution_count": 91,
     "metadata": {},
     "output_type": "execute_result"
    }
   ],
   "source": [
    "cat[0]"
   ]
  }
 ],
 "metadata": {
  "kernelspec": {
   "display_name": "Python 3",
   "language": "python",
   "name": "python3"
  },
  "language_info": {
   "codemirror_mode": {
    "name": "ipython",
    "version": 3
   },
   "file_extension": ".py",
   "mimetype": "text/x-python",
   "name": "python",
   "nbconvert_exporter": "python",
   "pygments_lexer": "ipython3",
   "version": "3.6.5"
  }
 },
 "nbformat": 4,
 "nbformat_minor": 2
}
