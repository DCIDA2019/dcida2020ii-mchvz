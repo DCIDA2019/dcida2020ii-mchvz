{
 "cells": [
  {
   "cell_type": "code",
   "execution_count": 127,
   "metadata": {},
   "outputs": [
    {
     "name": "stdout",
     "output_type": "stream",
     "text": [
      "Once deleted, variables cannot be recovered. Proceed (y/[n])? y\n"
     ]
    }
   ],
   "source": [
    "%reset"
   ]
  },
  {
   "cell_type": "code",
   "execution_count": 128,
   "metadata": {},
   "outputs": [],
   "source": [
    "import os\n",
    "import requests\n",
    "import pandas as pd\n",
    "import matplotlib.pyplot as plt\n",
    "import numpy as np"
   ]
  },
  {
   "cell_type": "code",
   "execution_count": 129,
   "metadata": {},
   "outputs": [],
   "source": [
    "#descarga las tablas y las almacena en la variable cat\n",
    "def dow(url,cat):\n",
    "    \n",
    "    for i in range(len(url)):\n",
    "        html = requests.get(url[i]).content\n",
    "        x_list = pd.read_html(html,header=-1)\n",
    "        x = x_list[0]\n",
    "        cat.append(x[4:])"
   ]
  },
  {
   "cell_type": "code",
   "execution_count": 130,
   "metadata": {},
   "outputs": [],
   "source": [
    "#hace una grafica de barras comparandolas por años\n",
    "#what son los datos, name es el nombre de cada dato\n",
    "def barritas(what,name):\n",
    "    \n",
    "    width=0.8/len(what)\n",
    "    fig, ax = plt.subplots()\n",
    "    \n",
    "    for i in range(len(what)):\n",
    "        ax.bar(cat[0]['year'] - width/2 + width*i, 100*what[i], width ,label=name[i])\n",
    "\n",
    "#    plt.title(title)\n",
    "    plt.grid()\n",
    "    plt.legend()\n",
    "    plt.xlabel('Año')\n",
    "    plt.ylabel('% de la población')\n",
    "    plt.show()"
   ]
  },
  {
   "cell_type": "code",
   "execution_count": 131,
   "metadata": {},
   "outputs": [],
   "source": [
    "#Calcula la mediana\n",
    "def median(data):\n",
    "    n = len(data)\n",
    "    index = n // 2\n",
    "    \n",
    "    if n % 2:\n",
    "        return sorted(data)[index]\n",
    "    \n",
    "    return sum(sorted(data)[index - 1:index + 1]) / 2"
   ]
  },
  {
   "cell_type": "markdown",
   "metadata": {},
   "source": [
    "# Readme"
   ]
  },
  {
   "cell_type": "code",
   "execution_count": 132,
   "metadata": {},
   "outputs": [
    {
     "data": {
      "text/html": [
       "<div>\n",
       "<style scoped>\n",
       "    .dataframe tbody tr th:only-of-type {\n",
       "        vertical-align: middle;\n",
       "    }\n",
       "\n",
       "    .dataframe tbody tr th {\n",
       "        vertical-align: top;\n",
       "    }\n",
       "\n",
       "    .dataframe thead th {\n",
       "        text-align: right;\n",
       "    }\n",
       "</style>\n",
       "<table border=\"1\" class=\"dataframe\">\n",
       "  <thead>\n",
       "    <tr style=\"text-align: right;\">\n",
       "      <th></th>\n",
       "      <th>Header</th>\n",
       "      <th>Description</th>\n",
       "    </tr>\n",
       "  </thead>\n",
       "  <tbody>\n",
       "    <tr>\n",
       "      <th>0</th>\n",
       "      <td>all</td>\n",
       "      <td>Total (or all men/women in sex-specific files)</td>\n",
       "    </tr>\n",
       "    <tr>\n",
       "      <th>1</th>\n",
       "      <td>HS</td>\n",
       "      <td>High school graduate or less (EDUCD &lt; 65)</td>\n",
       "    </tr>\n",
       "    <tr>\n",
       "      <th>2</th>\n",
       "      <td>SC</td>\n",
       "      <td>Some college (EDUCD &gt;= 65 &amp; &lt;= 100)</td>\n",
       "    </tr>\n",
       "    <tr>\n",
       "      <th>3</th>\n",
       "      <td>BAp</td>\n",
       "      <td>Bachelor's degree or more (EDUCD &gt; 100)</td>\n",
       "    </tr>\n",
       "    <tr>\n",
       "      <th>4</th>\n",
       "      <td>BAo</td>\n",
       "      <td>Bachelor's degree, no graduate degre (EDUCD &gt; ...</td>\n",
       "    </tr>\n",
       "    <tr>\n",
       "      <th>5</th>\n",
       "      <td>GD</td>\n",
       "      <td>Graduate degree (EDUCD &gt; 113)</td>\n",
       "    </tr>\n",
       "    <tr>\n",
       "      <th>6</th>\n",
       "      <td>White</td>\n",
       "      <td>Non-Hispanic white</td>\n",
       "    </tr>\n",
       "    <tr>\n",
       "      <th>7</th>\n",
       "      <td>Black</td>\n",
       "      <td>Black or African-American</td>\n",
       "    </tr>\n",
       "    <tr>\n",
       "      <th>8</th>\n",
       "      <td>Hisp</td>\n",
       "      <td>Hispanic of any race</td>\n",
       "    </tr>\n",
       "    <tr>\n",
       "      <th>9</th>\n",
       "      <td>NE</td>\n",
       "      <td>New England (REGION == 11)</td>\n",
       "    </tr>\n",
       "    <tr>\n",
       "      <th>10</th>\n",
       "      <td>MA</td>\n",
       "      <td>Mid-Atlantic (REGION == 12)</td>\n",
       "    </tr>\n",
       "    <tr>\n",
       "      <th>11</th>\n",
       "      <td>Midwest</td>\n",
       "      <td>Midwest (REGION == 21-23)</td>\n",
       "    </tr>\n",
       "    <tr>\n",
       "      <th>12</th>\n",
       "      <td>South</td>\n",
       "      <td>South (REGION == 31-34)</td>\n",
       "    </tr>\n",
       "    <tr>\n",
       "      <th>13</th>\n",
       "      <td>Mountain</td>\n",
       "      <td>Mountain West (REGION == 41)</td>\n",
       "    </tr>\n",
       "    <tr>\n",
       "      <th>14</th>\n",
       "      <td>Pacific</td>\n",
       "      <td>Pacific (REGION == 42)</td>\n",
       "    </tr>\n",
       "    <tr>\n",
       "      <th>15</th>\n",
       "      <td>poor</td>\n",
       "      <td>Family income in lowest 25%</td>\n",
       "    </tr>\n",
       "    <tr>\n",
       "      <th>16</th>\n",
       "      <td>mid</td>\n",
       "      <td>Family income in middle 50%</td>\n",
       "    </tr>\n",
       "    <tr>\n",
       "      <th>17</th>\n",
       "      <td>rich</td>\n",
       "      <td>Family income in top 25%</td>\n",
       "    </tr>\n",
       "    <tr>\n",
       "      <th>18</th>\n",
       "      <td>work</td>\n",
       "      <td>Employed 50+ weeks prior year</td>\n",
       "    </tr>\n",
       "    <tr>\n",
       "      <th>19</th>\n",
       "      <td>nowork</td>\n",
       "      <td>Not employed at least 50 weeks prior year</td>\n",
       "    </tr>\n",
       "    <tr>\n",
       "      <th>20</th>\n",
       "      <td>nokids_all</td>\n",
       "      <td>No own children living at home</td>\n",
       "    </tr>\n",
       "    <tr>\n",
       "      <th>21</th>\n",
       "      <td>kids_all</td>\n",
       "      <td>At least one own child living at home</td>\n",
       "    </tr>\n",
       "  </tbody>\n",
       "</table>\n",
       "</div>"
      ],
      "text/plain": [
       "        Header                                        Description\n",
       "0          all     Total (or all men/women in sex-specific files)\n",
       "1           HS          High school graduate or less (EDUCD < 65)\n",
       "2           SC                Some college (EDUCD >= 65 & <= 100)\n",
       "3          BAp            Bachelor's degree or more (EDUCD > 100)\n",
       "4          BAo  Bachelor's degree, no graduate degre (EDUCD > ...\n",
       "5           GD                      Graduate degree (EDUCD > 113)\n",
       "6        White                                 Non-Hispanic white\n",
       "7        Black                          Black or African-American\n",
       "8         Hisp                               Hispanic of any race\n",
       "9           NE                         New England (REGION == 11)\n",
       "10          MA                        Mid-Atlantic (REGION == 12)\n",
       "11     Midwest                          Midwest (REGION == 21-23)\n",
       "12       South                            South (REGION == 31-34)\n",
       "13    Mountain                       Mountain West (REGION == 41)\n",
       "14     Pacific                             Pacific (REGION == 42)\n",
       "15        poor                        Family income in lowest 25%\n",
       "16         mid                        Family income in middle 50%\n",
       "17        rich                           Family income in top 25%\n",
       "18        work                      Employed 50+ weeks prior year\n",
       "19      nowork          Not employed at least 50 weeks prior year\n",
       "20  nokids_all                     No own children living at home\n",
       "21    kids_all              At least one own child living at home"
      ]
     },
     "execution_count": 132,
     "metadata": {},
     "output_type": "execute_result"
    }
   ],
   "source": [
    "html = requests.get('https://github.com/resbaz/data/blob/master/marriage/README.md').content\n",
    "x_list = pd.read_html(html,header=-1)\n",
    "x = x_list[0]\n",
    "x"
   ]
  },
  {
   "cell_type": "code",
   "execution_count": 133,
   "metadata": {},
   "outputs": [],
   "source": [
    "#tablas de datos que se van a analizar\n",
    "#both sexes, divorces,men, women\n",
    "url = ['https://github.com/resbaz/data/blob/master/marriage/both_sexes.csv',\n",
    "      'https://github.com/resbaz/data/blob/master/marriage/divorce.csv',\n",
    "      'https://github.com/resbaz/data/blob/master/marriage/men.csv',\n",
    "      'https://github.com/resbaz/data/blob/master/marriage/women.csv'\n",
    "      ]\n",
    "\n",
    "cat = []\n",
    "t=[]\n",
    "#file='BvD.csv'"
   ]
  },
  {
   "cell_type": "code",
   "execution_count": 134,
   "metadata": {},
   "outputs": [],
   "source": [
    "dow(url,cat)"
   ]
  },
  {
   "cell_type": "markdown",
   "metadata": {},
   "source": [
    "# Plots"
   ]
  },
  {
   "cell_type": "code",
   "execution_count": 135,
   "metadata": {},
   "outputs": [],
   "source": [
    "#De las tablas precargadas utilizaré los datos de 35 a 44 años \n",
    "# excepto para comparar la situación laboral que utilizare de 25 a 34 años.\n",
    "\n",
    "#Los datos representan el índice con respecto a la población total de esa edad."
   ]
  },
  {
   "cell_type": "markdown",
   "metadata": {},
   "source": [
    "1- ¿Cómo es el índice de divorcios contra el de matrimonios?"
   ]
  },
  {
   "cell_type": "code",
   "execution_count": 136,
   "metadata": {
    "scrolled": true
   },
   "outputs": [
    {
     "data": {
      "image/png": "[encoded data removed]",
      "text/plain": [
       "<Figure size 432x288 with 1 Axes>"
      ]
     },
     "metadata": {},
     "output_type": "display_data"
    },
    {
     "data": {
      "text/plain": [
       "4     0.995013\n",
       "5     0.994399\n",
       "6     1.020242\n",
       "7     1.045863\n",
       "8     1.066639\n",
       "9     1.102508\n",
       "10    1.175078\n",
       "11    1.205842\n",
       "12    1.231200\n",
       "13    1.265086\n",
       "14    1.265965\n",
       "15    1.276170\n",
       "16    1.305348\n",
       "Name: all_3544, dtype: float64"
      ]
     },
     "execution_count": 136,
     "metadata": {},
     "output_type": "execute_result"
    }
   ],
   "source": [
    "what = [cat[0]['all_3544'],cat[1]['all_3544']]\n",
    "name = ['Marriages','Divorces']\n",
    "\n",
    "barritas(what,name)\n",
    "\n",
    "ratio = cat[0]['all_3544']/cat[1]['all_3544']\n",
    "# ratio = pd.DataFrame(ratio, index=cat[0]['year'])\n",
    "ratio"
   ]
  },
  {
   "cell_type": "markdown",
   "metadata": {},
   "source": [
    "2- Comparar matrimonios por clase social"
   ]
  },
  {
   "cell_type": "code",
   "execution_count": 137,
   "metadata": {},
   "outputs": [
    {
     "data": {
      "image/png": "[encoded data removed]",
      "text/plain": [
       "<Figure size 432x288 with 1 Axes>"
      ]
     },
     "metadata": {},
     "output_type": "display_data"
    }
   ],
   "source": [
    "what = [cat[0]['poor_3544'],cat[0]['mid_3544'],cat[0]['rich_3544']]\n",
    "name = ['rich','medium','poor']\n",
    "\n",
    "barritas(what,name)"
   ]
  },
  {
   "cell_type": "markdown",
   "metadata": {},
   "source": [
    "3- Comparar número de matrimonios divorcios con el nivel escolar"
   ]
  },
  {
   "cell_type": "code",
   "execution_count": 138,
   "metadata": {},
   "outputs": [
    {
     "data": {
      "image/png": "[encoded data removed]",
      "text/plain": [
       "<Figure size 432x288 with 1 Axes>"
      ]
     },
     "metadata": {},
     "output_type": "display_data"
    }
   ],
   "source": [
    "what = [cat[0]['HS_3544'],cat[0]['SC_3544'], cat[0]['BAp_3544'], cat[0]['BAo_3544'], cat[0]['GD_3544']]\n",
    "name = ['HS', 'SC', 'BAp', 'BAo', 'GD']\n",
    "\n",
    "barritas(what,name)"
   ]
  },
  {
   "cell_type": "markdown",
   "metadata": {},
   "source": [
    "4- Comparar hombres contra mujeres"
   ]
  },
  {
   "cell_type": "code",
   "execution_count": 139,
   "metadata": {},
   "outputs": [
    {
     "data": {
      "image/png": "[encoded data removed]",
      "text/plain": [
       "<Figure size 432x288 with 1 Axes>"
      ]
     },
     "metadata": {},
     "output_type": "display_data"
    }
   ],
   "source": [
    "what = [cat[2]['all_3544'],cat[3]['all_3544']]\n",
    "name = ['Hombres','Mujeres']\n",
    "\n",
    "barritas(what,name)"
   ]
  },
  {
   "cell_type": "markdown",
   "metadata": {},
   "source": [
    "5- Comparar por raza"
   ]
  },
  {
   "cell_type": "code",
   "execution_count": 140,
   "metadata": {},
   "outputs": [
    {
     "data": {
      "image/png": "[encoded data removed]",
      "text/plain": [
       "<Figure size 432x288 with 1 Axes>"
      ]
     },
     "metadata": {},
     "output_type": "display_data"
    }
   ],
   "source": [
    "what = [cat[0]['White_3544'], cat[0]['Black_3544'], cat[0]['Hisp_3544']]\n",
    "name = ['White', 'Black', 'Hisp']\n",
    "\n",
    "barritas(what,name)"
   ]
  },
  {
   "cell_type": "markdown",
   "metadata": {},
   "source": [
    "8- Comparar matrimonios por situación laboral"
   ]
  },
  {
   "cell_type": "code",
   "execution_count": 141,
   "metadata": {},
   "outputs": [
    {
     "data": {
      "image/png": "[encoded data removed]",
      "text/plain": [
       "<Figure size 432x288 with 1 Axes>"
      ]
     },
     "metadata": {},
     "output_type": "display_data"
    }
   ],
   "source": [
    "what = [cat[0]['all_2534'], cat[2]['work_2534'], cat[3]['work_2534']]\n",
    "name = ['All', 'M_work','W_work']\n",
    "\n",
    "barritas(what,name)"
   ]
  },
  {
   "cell_type": "code",
   "execution_count": 142,
   "metadata": {},
   "outputs": [
    {
     "data": {
      "image/png": "[encoded data removed]",
      "text/plain": [
       "<Figure size 432x288 with 1 Axes>"
      ]
     },
     "metadata": {},
     "output_type": "display_data"
    }
   ],
   "source": [
    "what = [cat[0]['all_2534'], (cat[2]['work_2534']+ cat[3]['work_2534'])/2]\n",
    "name = ['All', 'Work']\n",
    "\n",
    "barritas(what,name)"
   ]
  },
  {
   "cell_type": "markdown",
   "metadata": {},
   "source": [
    "6- Identificar el año con más bodas, menos bodas, más divorcios, menos divorcios."
   ]
  },
  {
   "cell_type": "code",
   "execution_count": 143,
   "metadata": {},
   "outputs": [
    {
     "data": {
      "image/png": "[encoded data removed]",
      "text/plain": [
       "<Figure size 432x288 with 1 Axes>"
      ]
     },
     "metadata": {},
     "output_type": "display_data"
    }
   ],
   "source": [
    "x=cat[0]['all_3544'][cat[0]['all_3544']==max(cat[0]['all_3544'])]\n",
    "ma=x.keys()\n",
    "x=cat[0]['all_3544'][cat[0]['all_3544']==min(cat[0]['all_3544'])]\n",
    "mi=x.keys()\n",
    "\n",
    "plt.bar(cat[0]['year'],100*cat[0]['all_3544'])\n",
    "plt.bar(cat[0]['year'][ma],100*max(cat[0]['all_3544']), label='Max')\n",
    "plt.bar(cat[0]['year'][mi],100*min(cat[0]['all_3544']), label='Min')\n",
    "plt.title('Casados')\n",
    "plt.grid()\n",
    "plt.legend()\n",
    "plt.xlabel('Año')\n",
    "plt.ylabel('% de la población')\n",
    "plt.show()"
   ]
  },
  {
   "cell_type": "code",
   "execution_count": 144,
   "metadata": {},
   "outputs": [
    {
     "data": {
      "image/png": "[encoded data removed]",
      "text/plain": [
       "<Figure size 432x288 with 1 Axes>"
      ]
     },
     "metadata": {},
     "output_type": "display_data"
    }
   ],
   "source": [
    "x=cat[1]['all_3544'][cat[1]['all_3544']==max(cat[1]['all_3544'])]\n",
    "ma=x.keys()\n",
    "x=cat[1]['all_3544'][cat[1]['all_3544']==min(cat[1]['all_3544'])]\n",
    "mi=x.keys()\n",
    "\n",
    "plt.bar(cat[1]['year'],100*cat[1]['all_3544'])\n",
    "plt.bar(cat[1]['year'][ma],100*max(cat[1]['all_3544']), label='Max')\n",
    "plt.bar(cat[1]['year'][mi],100*min(cat[1]['all_3544']), label='Min')\n",
    "plt.title('Divorciados')\n",
    "plt.grid()\n",
    "plt.legend()\n",
    "plt.xlabel('Año')\n",
    "plt.ylabel('% de la población')\n",
    "plt.show()"
   ]
  },
  {
   "cell_type": "markdown",
   "metadata": {},
   "source": [
    "7-media, mediana y moda de matrimonios/divorcios a lo largo de los años"
   ]
  },
  {
   "cell_type": "code",
   "execution_count": 145,
   "metadata": {},
   "outputs": [
    {
     "name": "stdout",
     "output_type": "stream",
     "text": [
      "Casados\n",
      "Promedio 41.16245928886375\n",
      "Mediana 41.47655670764989\n"
     ]
    }
   ],
   "source": [
    "print('Casados')\n",
    "#Promedio\n",
    "print('Promedio',100*sum(cat[0]['all_2534']) / len(cat[0]['all_2534']))\n",
    "#Mediana\n",
    "print('Mediana',100*median(cat[0]['all_2534']))"
   ]
  },
  {
   "cell_type": "code",
   "execution_count": 146,
   "metadata": {},
   "outputs": [
    {
     "name": "stdout",
     "output_type": "stream",
     "text": [
      "Divorciados\n",
      "Promedio 15.936238344434374\n",
      "Mediana 16.0468871507897\n"
     ]
    }
   ],
   "source": [
    "print('Divorciados')\n",
    "#Promedio\n",
    "print('Promedio',100*sum(cat[1]['all_3544']) / len(cat[1]['all_3544']))\n",
    "#Mediana\n",
    "print('Mediana',100*median(cat[1]['all_3544']))"
   ]
  }
 ],
 "metadata": {
  "kernelspec": {
   "display_name": "Python 3",
   "language": "python",
   "name": "python3"
  },
  "language_info": {
   "codemirror_mode": {
    "name": "ipython",
    "version": 3
   },
   "file_extension": ".py",
   "mimetype": "text/x-python",
   "name": "python",
   "nbconvert_exporter": "python",
   "pygments_lexer": "ipython3",
   "version": "3.6.5"
  }
 },
 "nbformat": 4,
 "nbformat_minor": 2
}
